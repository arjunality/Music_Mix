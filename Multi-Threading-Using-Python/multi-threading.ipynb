{
 "cells": [
  {
   "cell_type": "code",
   "execution_count": 1,
   "metadata": {},
   "outputs": [],
   "source": [
    "import os\n",
    "import sys\n",
    "import time\n",
    "import random as r\n",
    "import threading\n",
    "import multiprocessing "
   ]
  },
  {
   "cell_type": "code",
   "execution_count": 2,
   "metadata": {},
   "outputs": [],
   "source": [
    "def task(lb, ub, refreshTime, displayLocation):\n",
    "    while(1):\n",
    "        num = r.randint(lb, ub)\n",
    "        display(num, displayLocation)\n",
    "        time.sleep(refreshTime)\n",
    "    \n",
    "    return"
   ]
  },
  {
   "cell_type": "code",
   "execution_count": 3,
   "metadata": {},
   "outputs": [
    {
     "ename": "NameError",
     "evalue": "name 'D1' is not defined",
     "output_type": "error",
     "traceback": [
      "\u001b[0;31m---------------------------------------------------------------------------\u001b[0m",
      "\u001b[0;31mNameError\u001b[0m                                 Traceback (most recent call last)",
      "\u001b[1;32mUntitled-1.ipynb Cell 3\u001b[0m in \u001b[0;36m<cell line: 1>\u001b[0;34m()\u001b[0m\n\u001b[0;32m----> <a href='vscode-notebook-cell:Untitled-1.ipynb?jupyter-notebook#W2sdW50aXRsZWQ%3D?line=0'>1</a>\u001b[0m t1 \u001b[39m=\u001b[39m threading\u001b[39m.\u001b[39mThread(target\u001b[39m=\u001b[39mtask, args\u001b[39m=\u001b[39m(\u001b[39m10\u001b[39m, \u001b[39m20\u001b[39m, \u001b[39m10\u001b[39m, D1))\n\u001b[1;32m      <a href='vscode-notebook-cell:Untitled-1.ipynb?jupyter-notebook#W2sdW50aXRsZWQ%3D?line=1'>2</a>\u001b[0m t2 \u001b[39m=\u001b[39m threading\u001b[39m.\u001b[39mThread(target\u001b[39m=\u001b[39mtask, args\u001b[39m=\u001b[39m(\u001b[39m10\u001b[39m, \u001b[39m20\u001b[39m, \u001b[39m10\u001b[39m, D2))\n\u001b[1;32m      <a href='vscode-notebook-cell:Untitled-1.ipynb?jupyter-notebook#W2sdW50aXRsZWQ%3D?line=2'>3</a>\u001b[0m t3 \u001b[39m=\u001b[39m threading\u001b[39m.\u001b[39mThread(target\u001b[39m=\u001b[39mtask, args\u001b[39m=\u001b[39m(\u001b[39m10\u001b[39m, \u001b[39m20\u001b[39m, \u001b[39m10\u001b[39m, D3))\n",
      "\u001b[0;31mNameError\u001b[0m: name 'D1' is not defined"
     ]
    }
   ],
   "source": [
    "t1 = threading.Thread(target=task, args=(10, 20, 10, D1))\n",
    "t2 = threading.Thread(target=task, args=(10, 20, 10, D2))\n",
    "t3 = threading.Thread(target=task, args=(10, 20, 10, D3))\n",
    "t4 = threading.Thread(target=task, args=(10, 20, 10, D4))\n",
    "t5 = threading.Thread(target=task, args=(10, 20, 10, D5))\n",
    "t6 = threading.Thread(target=task, args=(10, 20, 10, D6))"
   ]
  },
  {
   "cell_type": "code",
   "execution_count": null,
   "metadata": {},
   "outputs": [],
   "source": [
    "t1.start()\n",
    "t2.start()\n",
    "t3.start()\n",
    "t4.start()\n",
    "t5.start()\n",
    "t6.start()"
   ]
  }
 ],
 "metadata": {
  "kernelspec": {
   "display_name": "base",
   "language": "python",
   "name": "python3"
  },
  "language_info": {
   "codemirror_mode": {
    "name": "ipython",
    "version": 3
   },
   "file_extension": ".py",
   "mimetype": "text/x-python",
   "name": "python",
   "nbconvert_exporter": "python",
   "pygments_lexer": "ipython3",
   "version": "3.9.13"
  },
  "orig_nbformat": 4
 },
 "nbformat": 4,
 "nbformat_minor": 2
}
